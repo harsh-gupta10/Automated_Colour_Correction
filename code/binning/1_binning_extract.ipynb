{
 "cells": [
  {
   "cell_type": "code",
   "execution_count": 4,
   "metadata": {},
   "outputs": [],
   "source": [
    "import cv2\n",
    "import numpy as np\n",
    "import pandas as pd\n",
    "import os\n",
    "\n",
    "def bin_image_pixels(image_path):\n",
    "    # Load the image\n",
    "    image = cv2.imread(image_path)\n",
    "    \n",
    "    # Split into RGB channels\n",
    "    channels = cv2.split(image)\n",
    "    \n",
    "    # Initialize bins and binned data container\n",
    "    bins = np.linspace(0, 256, 256)  # 255 bins\n",
    "    binned_data = []\n",
    "\n",
    "    total_pixels = image.shape[0] * image.shape[1]\n",
    "    \n",
    "    # Bin data for each channel\n",
    "    for channel in channels:\n",
    "        hist, _ = np.histogram(channel, bins)\n",
    "        binned_data.extend(hist/total_pixels)\n",
    "    \n",
    "    return binned_data\n",
    "\n",
    "def process_folder(folder_path, csv_file_path):\n",
    "    # List all image files in the folder\n",
    "    image_files = [f for f in os.listdir(folder_path) if f.endswith(('.jpeg', '.jpg', '.png'))]\n",
    "    \n",
    "    # Container for all images' binned data\n",
    "    all_binned_data = []\n",
    "    \n",
    "    # Process each image\n",
    "    for image_file in image_files:\n",
    "        image_path = os.path.join(folder_path, image_file)\n",
    "        binned_data = bin_image_pixels(image_path)\n",
    "        all_binned_data.append(binned_data)\n",
    "    \n",
    "    # Convert all binned data to DataFrame and save to CSV\n",
    "    df = pd.DataFrame(all_binned_data)\n",
    "    df.to_csv(csv_file_path, index=False)\n",
    "\n",
    "# Example usage\n",
    "folder_path = '../../input_images'\n",
    "csv_file_path = 'binned_data.csv'\n",
    "process_folder(folder_path, csv_file_path)\n"
   ]
  },
  {
   "cell_type": "code",
   "execution_count": 5,
   "metadata": {},
   "outputs": [],
   "source": [
    "folder_path = '../../processed_images'\n",
    "csv_file_path = 'binned_data_processed.csv'\n",
    "process_folder(folder_path, csv_file_path)"
   ]
  }
 ],
 "metadata": {
  "kernelspec": {
   "display_name": "Python 3",
   "language": "python",
   "name": "python3"
  },
  "language_info": {
   "codemirror_mode": {
    "name": "ipython",
    "version": 3
   },
   "file_extension": ".py",
   "mimetype": "text/x-python",
   "name": "python",
   "nbconvert_exporter": "python",
   "pygments_lexer": "ipython3",
   "version": "3.11.7"
  }
 },
 "nbformat": 4,
 "nbformat_minor": 2
}
