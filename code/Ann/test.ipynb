{
 "cells": [
  {
   "cell_type": "code",
   "execution_count": 60,
   "metadata": {},
   "outputs": [],
   "source": [
    "import numpy as np\n",
    "import pandas as pd\n",
    "import matplotlib.pyplot as plt\n",
    "import tensorflow\n",
    "from tensorflow import keras\n",
    "from tensorflow.keras import Sequential\n",
    "from tensorflow.keras.layers import Dense , Dropout\n",
    "from sklearn.preprocessing import StandardScaler\n",
    "from sklearn.model_selection import train_test_split\n",
    "from keras.regularizers import l1, l2\n",
    "from sklearn.metrics import mean_squared_error, r2_score\n",
    "from tensorflow.keras.layers import Dropout\n",
    "from sklearn.model_selection import train_test_split, RandomizedSearchCV, KFold, cross_val_score\n",
    "from tensorflow.keras.callbacks import EarlyStopping\n",
    "\n",
    "from tensorflow.keras.models import load_model\n",
    "from tensorflow.keras.optimizers import Adam\n",
    "\n",
    "\n",
    "import os\n",
    "import csv\n",
    "import cv2"
   ]
  },
  {
   "cell_type": "code",
   "execution_count": 61,
   "metadata": {},
   "outputs": [],
   "source": [
    "test_folder = './Results/Raw'\n",
    "\n",
    "modelH = './NewModels3D/A/HueModel.keras'\n",
    "modelS = './NewModels3D/A/SaturationModel.keras'\n",
    "modelv = './NewModels3D/A/ExposureModel.keras'\n",
    "csv_filePred = './NewModels3D/A/resultPred.csv'\n",
    "output_folder = './Results/predicted'\n",
    "\n",
    "CSV_raw = './Results/adobe5k_a.csv'\n"
   ]
  },
  {
   "cell_type": "code",
   "execution_count": 62,
   "metadata": {},
   "outputs": [],
   "source": [
    "def calculate_all_parameters_with_cv2(img):\n",
    "    hsv_img = cv2.cvtColor(img, cv2.COLOR_BGR2HSV)\n",
    "    H, S, V = cv2.split(hsv_img)\n",
    "    average_hue = np.mean(H)\n",
    "    average_saturation = np.mean(S)\n",
    "    average_exposure = np.mean(V)\n",
    "    return (average_hue/180, average_saturation/255, average_exposure/255)\n",
    "\n",
    "\n",
    "#iterater through the images and extract the exposure, saturation and hue \n",
    "#make a list of the values and return the list\n",
    "\n",
    "def extract_values(folder_path):\n",
    "    exposure = []\n",
    "    saturation = []\n",
    "    hue = []\n",
    "    for filename in os.listdir(folder_path):\n",
    "        img = cv2.imread(os.path.join(folder_path, filename))\n",
    "        my_tuple = calculate_all_parameters_with_cv2(img)\n",
    "        exposure.append(my_tuple[2])\n",
    "        saturation.append(my_tuple[1])\n",
    "        hue.append(my_tuple[0])\n",
    "    return exposure, saturation, hue\n",
    "\n",
    "\n",
    "raw_exposure, raw_saturation, raw_hue = extract_values(test_folder)"
   ]
  },
  {
   "cell_type": "code",
   "execution_count": 63,
   "metadata": {},
   "outputs": [],
   "source": [
    "dfRaw = pd.DataFrame({\n",
    "    'Raw Hue': raw_hue,\n",
    "    'Raw Saturation': raw_saturation,\n",
    "    'Raw Exposure': raw_exposure\n",
    "})\n",
    "\n",
    "dfRaw.to_csv(CSV_raw,index=False)"
   ]
  },
  {
   "cell_type": "code",
   "execution_count": 64,
   "metadata": {},
   "outputs": [],
   "source": [
    "X = pd.read_csv(CSV_raw)\n",
    "# X = df[[\"Raw Hue\",'Raw Exposure','Raw Saturation']]\n",
    "scaler = StandardScaler()\n",
    "X_scaled = scaler.fit_transform(X)\n"
   ]
  },
  {
   "cell_type": "code",
   "execution_count": 65,
   "metadata": {},
   "outputs": [],
   "source": [
    "from tensorflow.keras.losses import MeanAbsoluteError\n",
    "\n",
    "\n",
    "\n",
    "loaded_modelH = load_model(modelH)\n",
    "loaded_modelS = load_model(modelS)\n",
    "loaded_modelV = load_model(modelv)"
   ]
  },
  {
   "cell_type": "code",
   "execution_count": 66,
   "metadata": {},
   "outputs": [
    {
     "name": "stdout",
     "output_type": "stream",
     "text": [
      "\u001b[1m3/3\u001b[0m \u001b[32m━━━━━━━━━━━━━━━━━━━━\u001b[0m\u001b[37m\u001b[0m \u001b[1m0s\u001b[0m 14ms/step\n"
     ]
    }
   ],
   "source": [
    "y_predH = loaded_modelH.predict(X_scaled)\n",
    "y_pred_dfH = pd.DataFrame(y_predH)\n",
    "# y_pred_dfH.to_csv('./NewModels3D/B/resultHue.csv',index=False)"
   ]
  },
  {
   "cell_type": "code",
   "execution_count": 67,
   "metadata": {},
   "outputs": [
    {
     "name": "stdout",
     "output_type": "stream",
     "text": [
      "\u001b[1m1/3\u001b[0m \u001b[32m━━━━━━\u001b[0m\u001b[37m━━━━━━━━━━━━━━\u001b[0m \u001b[1m0s\u001b[0m 43ms/step"
     ]
    },
    {
     "name": "stdout",
     "output_type": "stream",
     "text": [
      "\u001b[1m3/3\u001b[0m \u001b[32m━━━━━━━━━━━━━━━━━━━━\u001b[0m\u001b[37m\u001b[0m \u001b[1m0s\u001b[0m 27ms/step\n"
     ]
    }
   ],
   "source": [
    "y_predS = loaded_modelS.predict(X_scaled)\n",
    "y_pred_dfS = pd.DataFrame(y_predS)\n",
    "# y_pred_dfS.to_csv('./NewModels3D/B/resultSaturation.csv',index=False)"
   ]
  },
  {
   "cell_type": "code",
   "execution_count": 68,
   "metadata": {},
   "outputs": [
    {
     "name": "stdout",
     "output_type": "stream",
     "text": [
      "\u001b[1m3/3\u001b[0m \u001b[32m━━━━━━━━━━━━━━━━━━━━\u001b[0m\u001b[37m\u001b[0m \u001b[1m0s\u001b[0m 14ms/step\n"
     ]
    }
   ],
   "source": [
    "y_predV = loaded_modelV.predict(X_scaled)\n",
    "y_pred_dfV = pd.DataFrame(y_predV)\n",
    "# y_pred_dfV.to_csv('./NewModels3D/B/resultExposure.csv',index=False)"
   ]
  },
  {
   "cell_type": "code",
   "execution_count": 69,
   "metadata": {},
   "outputs": [],
   "source": [
    "df_combined = pd.concat([y_pred_dfH, y_pred_dfS, y_pred_dfV], axis=1)\n",
    "df_combined.columns = ['Hue', 'Saturation', 'Exposure']\n"
   ]
  },
  {
   "cell_type": "code",
   "execution_count": 70,
   "metadata": {},
   "outputs": [],
   "source": [
    "# df_combined.to_csv('./abc.csv', index=False)\n",
    "df_combined.to_csv(csv_filePred, index=False,header=False)\n"
   ]
  },
  {
   "cell_type": "code",
   "execution_count": 71,
   "metadata": {},
   "outputs": [],
   "source": [
    "\n",
    "def adjust_image(img, new_val, new_saturation, new_hue):\n",
    "    # Convert from BGR to HSV\n",
    "    hsv = cv2.cvtColor(img, cv2.COLOR_BGR2HSV)\n",
    "    \n",
    "    # Split into the H, S, and V channels\n",
    "    h, s, v = np.mean(hsv, axis=(0, 1))\n",
    "\n",
    "    # print \n",
    "    \n",
    "    \n",
    "    h_shift = (new_hue*179 - h)/3\n",
    "    S_x = new_saturation*255 - s\n",
    "    if S_x>0:\n",
    "      s_shift =S_x/1.2\n",
    "    else:\n",
    "      s_shift = (S_x+30)/7\n",
    "    # s_shift = (new_saturation*255 - s +20)/7\n",
    "    \n",
    "    V_x = new_val*255 - v \n",
    "    if V_x>0:\n",
    "      v_shift = V_x/1.4\n",
    "    else:\n",
    "      v_shift = (V_x)/4.2\n",
    "    \n",
    "    # h_shift = 0\n",
    "    # s_shift = 0\n",
    "    # v_shift = 0   \n",
    "    print( h_shift , s_shift , v_shift)\n",
    "    \n",
    "    # Adjust HSV values\n",
    "    adjusted_hsv_image = hsv.astype(\"float32\")\n",
    "    adjusted_hsv_image[..., 0] += h_shift\n",
    "    adjusted_hsv_image[..., 1] += s_shift\n",
    "    adjusted_hsv_image[..., 2] += v_shift\n",
    "    adjusted_hsv_image = np.clip(adjusted_hsv_image, 0, 255).astype(\"uint8\")\n",
    "    # Adjust values\n",
    "    adjusted_image = cv2.cvtColor(adjusted_hsv_image, cv2.COLOR_HSV2BGR)\n",
    "    \n",
    "    return adjusted_image"
   ]
  },
  {
   "cell_type": "code",
   "execution_count": 72,
   "metadata": {},
   "outputs": [],
   "source": [
    "# test_folder = './SeprateTest/test'\n",
    "\n",
    "os.makedirs(output_folder, exist_ok=True)\n",
    "\n",
    "files = os.listdir(test_folder)\n",
    "\n",
    "new_val = []\n",
    "new_saturation = []\n",
    "new_hue = []\n",
    "\n",
    "with open(csv_filePred, mode='r') as csv_filePred:\n",
    "    csv_reader = csv.reader(csv_filePred)\n",
    "    for row in csv_reader:\n",
    "        new_hue.append(float(row[0]))\n",
    "        new_saturation.append(float(row[1]))\n",
    "        new_val.append(float(row[2]))"
   ]
  },
  {
   "cell_type": "code",
   "execution_count": 73,
   "metadata": {},
   "outputs": [
    {
     "name": "stdout",
     "output_type": "stream",
     "text": [
      "SxN_Pkt_Mv_ (444).jpg\n",
      "0.8352158419296151 1.020407664991995 -25.034601590324794\n"
     ]
    },
    {
     "name": "stdout",
     "output_type": "stream",
     "text": [
      "1454960106_image.jpeg\n",
      "-0.9101781383730696 -2.3624665924664408 -14.63846776734789\n",
      "Wedding Traditional- (304).jpg\n",
      "0.1222353161728383 -3.081870006760728 -11.814760258916323\n",
      "1463230993_wedding_LRs_66.jpg\n",
      "-0.10688574047975881 1.0843379625187433 -23.22432413114871\n",
      "Reception Traditional- (91).jpg\n",
      "-0.8213323642112442 -4.322956455467373 -7.859655158681166\n",
      "CLR04960.jpg\n",
      "-2.248121410524386 -12.720162908576928 36.88270027108544\n",
      "1461605824_Mallu_Wedding_142.jpg\n",
      "1.870186994907544 3.576532198436496 -22.40317435177054\n",
      "Pellikuthuru Candid- (463).jpg\n",
      "1.9034381799039792 -7.942554671840095 -8.279618826376641\n",
      "SxN_Eng_Dileep_ (976).jpg\n",
      "-0.9793795483255204 -4.131082324874468 -3.3968747253535843\n",
      "Candid Wedding- (403).jpg\n",
      "2.923633090411523 -4.277459655673135 -11.29332345385067\n",
      "1447365550_ETH_SAG_255.jpg\n",
      "1.2485971677165348 -6.0201000556805395 -12.34184484983127\n",
      "1429123518_A32A6964.jpg\n",
      "-2.4326194815592195 3.2794383714392814 -14.67586958999072\n",
      "Reception Traditional- (252).jpg\n",
      "-1.6050863334156371 3.4880834520282185 -17.277425325004895\n",
      "CLR04215.jpg\n",
      "-1.4418397485515253 -13.177396837429672 38.07331949908324\n",
      "Reception Candid- (2).jpg\n",
      "0.8984063948422474 3.8888528605526154 -23.413763453899666\n",
      "1425531933_1424790621_IMG_2418.jpg\n",
      "-1.5287698358020994 7.837967380184896 -18.937816723084882\n",
      "1426058892_1425464588_110.jpg\n",
      "-1.2591110692053984 19.513419411669176 -29.451491338509314\n",
      "AxV_Wed_Mv_ (829).jpg\n",
      "3.447791476594414 37.078612343951384 -37.93552163578891\n",
      "DSC_3008.JPG\n",
      "-0.07025114839674984 3.8884297319979413 -21.244285263974707\n",
      "AxV_Bc_Mv_ (762).jpg\n",
      "1.1540424429379026 -16.54823444037409 44.00262320136623\n",
      "1426775815_vivekkrishnanphotography-77.jpg\n",
      "3.0817626894552723 2.6233569421931895 -18.478810293371172\n",
      "SxN_Eng_Dileep_ (1228).jpg\n",
      "-1.4560130376405265 3.6804095391282803 -15.18305790490842\n",
      "DSC_3132.JPG\n",
      "-1.6203228890644017 24.88625068058756 -27.037221077115092\n",
      "SxN_Eng_Dileep_ (1219).jpg\n",
      "-1.1527621924819347 -2.935032563176835 -3.3870187231602347\n",
      "A+V_CS_Tanishq_ (43).jpg\n",
      "-2.028795936039226 -0.8888537557816159 -6.52346899221451\n",
      "N+M_Eng_Bhargav_ (378).jpg\n",
      "1.6357915421109155 -18.473789011873585 52.562305546395095\n",
      "SxN_Eng_Dileep_ (1274).jpg\n",
      "-1.312059964743798 3.4242776648265822 -17.321891105868634\n",
      "Pellikuthuru Candid- (470).jpg\n",
      "3.7427890567513096 -1.0763739040770832 -19.69184456255304\n",
      "Reception Candid- (12).jpg\n",
      "0.2577648161316877 -6.124820280429158 1.5537829153439122\n",
      "A+V_CS_Tanishq_ (53).jpg\n",
      "0.4828589551203966 -0.3928038332968709 -7.999124960222645\n",
      "1448441764__17_.jpg\n",
      "3.6847061487951813 -3.977837293373493 -13.811957436173262\n",
      "4N7A0864.JPG\n",
      "-1.1303521176954756 12.671026426611801 -21.12246896408975\n",
      "1457378483_C52A7781.jpg\n",
      "1.9498284786606703 -2.1248534045620056 -13.240755646569575\n",
      "1432383949_31.jpg\n",
      "-0.5772681485582467 3.1883876077607516 -19.26169271070193\n",
      "1444902905_Arun_B_Photography_Hyderabad_Photographer_WedMeGood__14_.jpg\n",
      "2.431453304792484 3.3593776148015286 -21.275292488684165\n",
      "SxN_Eng_Dileep_ (509).jpg\n",
      "-0.9890235262015779 25.73583629028258 -26.859606091864062\n",
      "1469544968_FB3A9216.jpg\n",
      "0.32076122301849114 3.834904050374813 -25.006330197811806\n",
      "Candid Sangeeth -  (549).jpg\n",
      "-0.13128575102875573 -9.335879464442744 5.951887946629963\n",
      "SxN_Eng_Dileep_ (1243).jpg\n",
      "0.36718886352567875 -1.7356321724516692 -8.495387611515605\n",
      "DSC_0009.JPG\n",
      "-1.103756762222223 -1.0153517833333328 -9.483939797619046\n",
      "1466439153_PS_PAW_304.jpg\n",
      "-0.38893848836082157 0.7991999170486171 -16.37634751542086\n",
      "CLR04920.jpg\n",
      "-2.1232496158538083 41.11076028718983 -33.5944976168474\n",
      "A+V_CS_Mv_ (54).jpg\n",
      "-2.0754885936242906 63.23187103877416 -34.02074605339359\n",
      "DSC_9884.JPG\n",
      "1.2639654475994533 2.507786329982364 -20.165018887419162\n",
      "CLR04832.jpg\n",
      "-1.3242147185429616 3.401586351160355 -21.75230429767143\n",
      "1434779375_W282.jpg\n",
      "-1.3533437751174422 7.2102695186156875 -21.50691535303777\n",
      "Pellikuthuru Candid- (473).jpg\n",
      "5.170830121851853 -9.91166600911229 -13.146144435136186\n",
      "1452011125_47_resize_resize.jpg\n",
      "-1.3082997553823077 1.9554690936603134 -12.641362903530373\n",
      "DSC_2309.JPG\n",
      "-0.28660523176579505 7.187131349334557 -24.180341582933295\n",
      "1467910364_Wedding_459.jpg\n",
      "2.4649140406187633 2.0536451972198466 -22.626559583119477\n",
      "Candid Wedding- (368).jpg\n",
      "0.6929803709271075 -2.0332651090800034 -17.779849562700917\n",
      "Wedding Traditional  - (326).jpg\n",
      "1.8284999395198913 8.214564626028807 -27.495482859053492\n",
      "1434348749_Kavita_Rajat__0254.jpg\n",
      "-1.4669853293753097 42.90756090629685 -30.933348147979576\n",
      "1470403759_CB7_1029.jpg\n",
      "-0.7993209674607726 0.2502084128489922 -11.090901090279191\n",
      "SxN_Pdk_Dileep_ (1928).jpg\n",
      "2.2926747116778663 -4.241993840115833 -14.568515926891864\n",
      "SxN_Pkt_Mv_ (431).jpg\n",
      "3.3474420939562584 -4.638534553268054 -19.126612702426286\n",
      "Mehandi Bride- (8).jpg\n",
      "1.9856714801097393 -9.010516176337449 -1.710556039192632\n",
      "Pellikoduku - (474).jpg\n",
      "2.4910526477640595 0.3367381857730741 -17.357228132471096\n",
      "1439664704_candid_wedding_photographer_Chennai_N__R_104.jpg\n",
      "0.2797770550212159 -4.31060305344514 -5.3512568700747645\n",
      "1473733121_image1342.jpg\n",
      "-2.342057113769068 2.377453296311859 -12.854278940398382\n",
      "Candid Sangeeth -  (550).jpg\n",
      "0.23791756968026334 -13.554324890695966 16.07288048746941\n",
      "DSC_0015.JPG\n",
      "4.980746139444446 -1.9209173416666658 -28.140713327380954\n",
      "SxN_Pkt_Mv_ (443).jpg\n",
      "2.012970204115407 3.106397874516694 -25.34799379047758\n",
      "127A5158.JPG\n",
      "0.9465816780521242 -0.16864340064667868 -15.413240356359001\n",
      "Candid Wedding- (381).jpg\n",
      "2.6270456626748975 -7.665961600587892 -12.619213964824617\n",
      "AxV_Bc_Mv_ (1632).jpg\n",
      "-0.3998799102860768 -8.307940870708848 26.49754916324588\n",
      "Mehandi Bride- (29).jpg\n",
      "1.3163965152537713 -13.274706830870077 30.09976173221635\n",
      "outputYVR04931_PreviewImage.jpgYVR04931_PreviewImage.jpg\n",
      "1.0154126025326988 4.995130451045107 -21.741712036041697\n",
      "4N7A5129.JPG\n",
      "2.330332191851852 -3.1628663231922394 -11.876071960807371\n",
      "1462203756_Delhi_Candid_Photography_88.jpg\n",
      "-1.6065632195808348 2.000682516467066 -15.001610922298257\n",
      "Mehandi Bride- (21).jpg\n",
      "0.7369676701097395 -6.343137631628453 -1.1211293389182806\n",
      "A+V_CS_Tanishq_ (45).jpg\n",
      "-2.281575879968775 2.849274252366314 -14.212782323432444\n"
     ]
    }
   ],
   "source": [
    "\n",
    "for i, file in enumerate(files):\n",
    "    img = cv2.imread(os.path.join(test_folder, file))\n",
    "    print(file)\n",
    "    img_adjusted = adjust_image(img, new_val[i], new_saturation[i], new_hue[i])\n",
    "    cv2.imwrite(os.path.join(output_folder, file), img_adjusted)\n",
    "\n"
   ]
  }
 ],
 "metadata": {
  "kernelspec": {
   "display_name": "Python 3",
   "language": "python",
   "name": "python3"
  },
  "language_info": {
   "codemirror_mode": {
    "name": "ipython",
    "version": 3
   },
   "file_extension": ".py",
   "mimetype": "text/x-python",
   "name": "python",
   "nbconvert_exporter": "python",
   "pygments_lexer": "ipython3",
   "version": "3.10.12"
  }
 },
 "nbformat": 4,
 "nbformat_minor": 2
}
