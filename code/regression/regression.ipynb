{
 "cells": [
  {
   "cell_type": "code",
   "execution_count": 22,
   "metadata": {},
   "outputs": [],
   "source": [
    "import cv2\n",
    "import numpy as np\n",
    "import os\n",
    "import csv"
   ]
  },
  {
   "cell_type": "code",
   "execution_count": 23,
   "metadata": {},
   "outputs": [],
   "source": [
    "\n",
    "# This will form the value for exposure\n",
    "def calculate_exposure_with_cv2(img):\n",
    "    # Convert the image from BGR to HSV\n",
    "    hsv_img = cv2.cvtColor(img, cv2.COLOR_BGR2HSV)\n",
    "    # Extract the Saturation channel\n",
    "    _, _, V = cv2.split(hsv_img)\n",
    "    # Calculate average saturation\n",
    "    average_exposure = np.mean(V)\n",
    "    return (average_exposure/255)\n",
    "\n",
    "\n",
    "def calculate_saturation_with_cv2(img):\n",
    "    # Convert the image from BGR to HSV\n",
    "    hsv_img = cv2.cvtColor(img, cv2.COLOR_BGR2HSV)\n",
    "    # Extract the Saturation channel\n",
    "    _, S, _ = cv2.split(hsv_img)\n",
    "    # Calculate average saturation\n",
    "    average_saturation = np.mean(S)\n",
    "    return (average_saturation/255)\n",
    "\n",
    "def calculate_hue_with_cv2(img):\n",
    "    hsv_img = cv2.cvtColor(img, cv2.COLOR_BGR2HSV)\n",
    "    # Extract the Saturation channel\n",
    "    H, _, _ = cv2.split(hsv_img)\n",
    "    # Calculate average saturation\n",
    "    average_hue = np.mean(H)\n",
    "    return (average_hue/180)\n",
    "\n",
    "def calculate_all_parameters_with_cv2(img):\n",
    "    hsv_img = cv2.cvtColor(img, cv2.COLOR_BGR2HSV)\n",
    "    H, S, V = cv2.split(hsv_img)\n",
    "    average_hue = np.mean(H)\n",
    "    average_saturation = np.mean(S)\n",
    "    average_exposure = np.mean(V)\n",
    "    return (average_hue/180, average_saturation/255, average_exposure/255)\n",
    "\n",
    "# This will be used for modifying image\n",
    "def adjust_gamma(image_path, gamma=1.0):\n",
    "    image=cv2.imread(image_path)\n",
    "    invGamma = 1.0 / gamma\n",
    "    table = np.array([((i / 255.0) ** invGamma) * 255 for i in np.arange(0, 256)]).astype(\"uint8\")\n",
    "    return cv2.LUT(image, table)"
   ]
  },
  {
   "cell_type": "code",
   "execution_count": 24,
   "metadata": {},
   "outputs": [],
   "source": [
    "#iterater through the images and extract the exposure, saturation and hue \n",
    "#make a list of the values and return the list\n",
    "\n",
    "def extract_values(folder_path):\n",
    "    exposure = []\n",
    "    saturation = []\n",
    "    hue = []\n",
    "    for filename in os.listdir(folder_path):\n",
    "        img = cv2.imread(os.path.join(folder_path, filename))\n",
    "        my_tuple = calculate_all_parameters_with_cv2(img)\n",
    "        exposure.append(my_tuple[2])\n",
    "        saturation.append(my_tuple[1])\n",
    "        hue.append(my_tuple[0])\n",
    "    return exposure, saturation, hue\n",
    "\n"
   ]
  },
  {
   "cell_type": "code",
   "execution_count": 25,
   "metadata": {},
   "outputs": [],
   "source": [
    "\n",
    "# raw_folder_path = \"../input_images\"\n",
    "# edited_folder_path = \"../processed_images\"\n",
    "raw_folder_path = \"../adobe5k/raw\"\n",
    "edited_folder_path = \"../adobe5k/a\"\n",
    "\n",
    "raw_exposure, raw_saturation, raw_hue = extract_values(raw_folder_path)\n",
    "edited_exposure, edited_saturation, edited_hue = extract_values(edited_folder_path)"
   ]
  },
  {
   "cell_type": "code",
   "execution_count": 26,
   "metadata": {},
   "outputs": [],
   "source": [
    "# print(\"Raw Exposure: \", raw_exposure)\n",
    "# print(\"Edited Exposure: \", edited_exposure)\n",
    "# print(\"Raw Saturation: \", raw_saturation)\n",
    "# print(\"Edited Saturation: \", edited_saturation)\n",
    "# print(\"Raw Hue: \", raw_hue)\n",
    "# print(\"Edited Hue: \", edited_hue)\n"
   ]
  },
  {
   "cell_type": "code",
   "execution_count": 27,
   "metadata": {},
   "outputs": [],
   "source": [
    "#write to csv \n",
    "\n",
    "with open('adobe5k.csv', mode='w') as adobe5k_file:\n",
    "    adobe5k_writer = csv.writer(adobe5k_file, delimiter=',', quotechar='\"', quoting=csv.QUOTE_MINIMAL)\n",
    "    adobe5k_writer.writerow(['Raw Exposure', 'Edited Exposure', 'Raw Saturation', 'Edited Saturation', 'Raw Hue', 'Edited Hue'])\n",
    "    for i in range(len(raw_exposure)):\n",
    "        adobe5k_writer.writerow([raw_exposure[i], edited_exposure[i], raw_saturation[i], edited_saturation[i], raw_hue[i], edited_hue[i]])\n"
   ]
  }
 ],
 "metadata": {
  "kernelspec": {
   "display_name": "Python 3",
   "language": "python",
   "name": "python3"
  },
  "language_info": {
   "codemirror_mode": {
    "name": "ipython",
    "version": 3
   },
   "file_extension": ".py",
   "mimetype": "text/x-python",
   "name": "python",
   "nbconvert_exporter": "python",
   "pygments_lexer": "ipython3",
   "version": "3.11.7"
  }
 },
 "nbformat": 4,
 "nbformat_minor": 2
}
