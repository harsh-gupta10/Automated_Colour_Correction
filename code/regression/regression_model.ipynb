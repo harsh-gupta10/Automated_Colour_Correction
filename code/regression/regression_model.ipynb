{
 "cells": [
  {
   "cell_type": "code",
   "execution_count": 17,
   "metadata": {},
   "outputs": [],
   "source": [
    "import pandas as pd\n",
    "from sklearn.model_selection import train_test_split\n",
    "from sklearn.linear_model import LinearRegression\n",
    "from sklearn.metrics import mean_squared_error\n",
    "import os\n",
    "import cv2\n",
    "import numpy as np\n",
    "import csv\n"
   ]
  },
  {
   "cell_type": "code",
   "execution_count": 23,
   "metadata": {},
   "outputs": [
    {
     "name": "stdout",
     "output_type": "stream",
     "text": [
      "Mean Squared Error: 0.008764504597827608\n"
     ]
    }
   ],
   "source": [
    "# Load the data from the CSV file\n",
    "data = pd.read_csv('adobe5k.csv')\n",
    "\n",
    "# Select the first 4000 rows for training\n",
    "data_train = data[:4000]\n",
    "\n",
    "# Split the data into features (X) and target (y)\n",
    "X_train = data_train[['Raw Exposure', 'Raw Saturation', 'Raw Hue']]\n",
    "y_train = data_train[['Edited Exposure', 'Edited Saturation', 'Edited Hue']]\n",
    "\n",
    "# Split the data into testing set (remaining 1000 rows)\n",
    "data_test = data[4000:]\n",
    "X_test = data_test[['Raw Exposure', 'Raw Saturation', 'Raw Hue']]\n",
    "y_test = data_test[['Edited Exposure', 'Edited Saturation', 'Edited Hue']]\n",
    "\n",
    "# Initialize and train the linear regression model\n",
    "model = LinearRegression()\n",
    "model.fit(X_train, y_train)\n",
    "\n",
    "# Predict on the testing set\n",
    "y_pred = model.predict(X_test)\n",
    "\n",
    "# Calculate Mean Squared Error (MSE)\n",
    "mse = mean_squared_error(y_test, y_pred)\n",
    "print(\"Mean Squared Error:\", mse)\n"
   ]
  }
 ],
 "metadata": {
  "kernelspec": {
   "display_name": "Python 3",
   "language": "python",
   "name": "python3"
  },
  "language_info": {
   "codemirror_mode": {
    "name": "ipython",
    "version": 3
   },
   "file_extension": ".py",
   "mimetype": "text/x-python",
   "name": "python",
   "nbconvert_exporter": "python",
   "pygments_lexer": "ipython3",
   "version": "3.11.7"
  }
 },
 "nbformat": 4,
 "nbformat_minor": 2
}
